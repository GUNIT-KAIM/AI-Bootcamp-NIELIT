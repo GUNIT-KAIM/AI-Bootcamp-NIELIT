{
  "nbformat": 4,
  "nbformat_minor": 0,
  "metadata": {
    "colab": {
      "provenance": []
    },
    "kernelspec": {
      "name": "python3",
      "display_name": "Python 3"
    },
    "language_info": {
      "name": "python"
    }
  },
  "cells": [
    {
      "cell_type": "code",
      "execution_count": 1,
      "metadata": {
        "colab": {
          "base_uri": "https://localhost:8080/"
        },
        "id": "f121wB-JmD0z",
        "outputId": "3edc837c-9aa3-4a8c-8c58-3a4ff1dd3c9c"
      },
      "outputs": [
        {
          "output_type": "stream",
          "name": "stdout",
          "text": [
            "hello world\n"
          ]
        }
      ],
      "source": [
        "print(\"hello world\")"
      ]
    },
    {
      "cell_type": "code",
      "source": [
        "a=69\n",
        "b=76\n",
        "c=a+b\n",
        "print(\"The sum of a & b is\", c )"
      ],
      "metadata": {
        "colab": {
          "base_uri": "https://localhost:8080/"
        },
        "id": "rPA6s8JOm4TR",
        "outputId": "2ef20ef0-836b-4a08-960f-98fe68fc257f"
      },
      "execution_count": 2,
      "outputs": [
        {
          "output_type": "stream",
          "name": "stdout",
          "text": [
            "The sum of a & b is 145\n"
          ]
        }
      ]
    },
    {
      "cell_type": "code",
      "source": [
        "d=a*b\n",
        "print(\"The product of a & b is\", d)"
      ],
      "metadata": {
        "colab": {
          "base_uri": "https://localhost:8080/"
        },
        "id": "JgIuIlqmnTKf",
        "outputId": "bd9d69ef-08da-4d9c-bfc9-3bcdc19d0341"
      },
      "execution_count": 3,
      "outputs": [
        {
          "output_type": "stream",
          "name": "stdout",
          "text": [
            "The product of a & b is 5244\n"
          ]
        }
      ]
    }
  ]
}